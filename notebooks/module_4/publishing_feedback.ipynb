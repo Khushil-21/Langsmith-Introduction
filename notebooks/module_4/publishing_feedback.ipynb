{
 "cells": [
  {
   "cell_type": "markdown",
   "metadata": {},
   "source": [
    "# Publishing Feedback"
   ]
  },
  {
   "cell_type": "markdown",
   "metadata": {},
   "source": [
    "### Setup"
   ]
  },
  {
   "cell_type": "code",
   "execution_count": 1,
   "metadata": {},
   "outputs": [],
   "source": [
    "# You can set them inline\n",
    "import os\n",
    "os.environ[\"LANGCHAIN_API_KEY\"] = \"\"\n",
    "os.environ[\"LANGCHAIN_TRACING_V2\"] = \"true\"\n",
    "os.environ[\"LANGCHAIN_PROJECT\"] = \"langsmith-academy\""
   ]
  },
  {
   "cell_type": "code",
   "execution_count": 2,
   "metadata": {},
   "outputs": [
    {
     "data": {
      "text/plain": [
       "True"
      ]
     },
     "execution_count": 2,
     "metadata": {},
     "output_type": "execute_result"
    }
   ],
   "source": [
    "# Or you can use a .env file\n",
    "from dotenv import load_dotenv\n",
    "load_dotenv(dotenv_path=\"../../.env\", override=True)"
   ]
  },
  {
   "cell_type": "markdown",
   "metadata": {},
   "source": [
    "### Adding Feedback to a Run"
   ]
  },
  {
   "cell_type": "markdown",
   "metadata": {},
   "source": [
    "You can add feedback to an existing Run programmatically as long as you know the run_id. Let's grab a run_id from the LangSmith UI and add it here."
   ]
  },
  {
   "cell_type": "code",
   "execution_count": 3,
   "metadata": {},
   "outputs": [],
   "source": [
    "run_id = \"06dff15c-aee9-42db-bbba-fb9f7ee0ab56\""
   ]
  },
  {
   "cell_type": "markdown",
   "metadata": {},
   "source": [
    "Now, let's add some continuous feedback"
   ]
  },
  {
   "cell_type": "code",
   "execution_count": 4,
   "metadata": {},
   "outputs": [
    {
     "data": {
      "text/plain": [
       "Feedback(id=UUID('8d715bc5-e7ef-4643-ad70-9cb9ac4fc710'), created_at=datetime.datetime(2025, 1, 15, 4, 6, 10, 624301, tzinfo=datetime.timezone.utc), modified_at=datetime.datetime(2025, 1, 15, 4, 6, 10, 624301, tzinfo=datetime.timezone.utc), run_id=UUID('06dff15c-aee9-42db-bbba-fb9f7ee0ab56'), trace_id=None, key='sample-continuous', score=7.0, value=None, comment='This is a sample piece of continuous feedback', correction=None, feedback_source=FeedbackSourceBase(type='api', metadata={}), session_id=None, comparative_experiment_id=None, feedback_group_id=None, extra=None)"
      ]
     },
     "execution_count": 4,
     "metadata": {},
     "output_type": "execute_result"
    }
   ],
   "source": [
    "from langsmith import Client\n",
    "\n",
    "client = Client()\n",
    "\n",
    "client.create_feedback(\n",
    "  run_id,\n",
    "  key=\"sample-continuous\",\n",
    "  score=7.0,\n",
    "  comment=\"This is a sample piece of continuous feedback\",\n",
    ")"
   ]
  },
  {
   "cell_type": "markdown",
   "metadata": {},
   "source": [
    "And now, let's add some categorical feedback too!"
   ]
  },
  {
   "cell_type": "code",
   "execution_count": 5,
   "metadata": {},
   "outputs": [
    {
     "data": {
      "text/plain": [
       "Feedback(id=UUID('8c1cd6ca-3e45-4d0b-9164-cc36f06428ab'), created_at=datetime.datetime(2025, 1, 15, 4, 6, 18, 141135, tzinfo=datetime.timezone.utc), modified_at=datetime.datetime(2025, 1, 15, 4, 6, 18, 141135, tzinfo=datetime.timezone.utc), run_id=UUID('06dff15c-aee9-42db-bbba-fb9f7ee0ab56'), trace_id=None, key='sample-categorical', score=None, value='no', comment='This is a sample piece of categorical feedback', correction=None, feedback_source=FeedbackSourceBase(type='api', metadata={}), session_id=None, comparative_experiment_id=None, feedback_group_id=None, extra=None)"
      ]
     },
     "execution_count": 5,
     "metadata": {},
     "output_type": "execute_result"
    }
   ],
   "source": [
    "from langsmith import Client\n",
    "\n",
    "client = Client()\n",
    "\n",
    "client.create_feedback(\n",
    "  run_id,\n",
    "  key=\"sample-categorical\",\n",
    "  value=\"no\",\n",
    "  comment=\"This is a sample piece of categorical feedback\",\n",
    ")"
   ]
  },
  {
   "cell_type": "markdown",
   "metadata": {},
   "source": [
    "### Pre-Generating Run IDs for Feedback"
   ]
  },
  {
   "cell_type": "markdown",
   "metadata": {},
   "source": [
    "![Generate_run_id](../../images/generate_run_id.png)\n",
    "\n",
    "Using LangChain, we offer the ability to pre-generate and define run IDs, before your code is invoked and the run ID is generated. With this functionality, you're able to access your run ID before initial generation, which can be useful for actions like sending feedback. The example below demonstrates this."
   ]
  },
  {
   "cell_type": "code",
   "execution_count": 6,
   "metadata": {},
   "outputs": [
    {
     "data": {
      "text/plain": [
       "UUID('81f7fc0e-0df4-4bf1-80c9-51cf4077ba05')"
      ]
     },
     "execution_count": 6,
     "metadata": {},
     "output_type": "execute_result"
    }
   ],
   "source": [
    "import uuid\n",
    "\n",
    "pre_defined_run_id = uuid.uuid4()\n",
    "pre_defined_run_id"
   ]
  },
  {
   "cell_type": "code",
   "execution_count": 7,
   "metadata": {},
   "outputs": [],
   "source": [
    "from langsmith import traceable\n",
    "\n",
    "@traceable\n",
    "def foo():\n",
    "    return \"This is a sample Run!\""
   ]
  },
  {
   "cell_type": "markdown",
   "metadata": {},
   "source": [
    "We are passing in a config with our function call through `langsmith_extra` that contains our pre-defined run_id"
   ]
  },
  {
   "cell_type": "code",
   "execution_count": 8,
   "metadata": {},
   "outputs": [
    {
     "data": {
      "text/plain": [
       "'This is a sample Run!'"
      ]
     },
     "execution_count": 8,
     "metadata": {},
     "output_type": "execute_result"
    }
   ],
   "source": [
    "foo(langsmith_extra={\"run_id\": pre_defined_run_id})"
   ]
  },
  {
   "cell_type": "markdown",
   "metadata": {},
   "source": [
    "Now we can directly create feedback on this run!"
   ]
  },
  {
   "cell_type": "code",
   "execution_count": 9,
   "metadata": {},
   "outputs": [
    {
     "data": {
      "text/plain": [
       "Feedback(id=UUID('738b7f66-984b-46ac-ba1e-ba0c4a178656'), created_at=datetime.datetime(2025, 1, 15, 4, 8, 52, 418484, tzinfo=datetime.timezone.utc), modified_at=datetime.datetime(2025, 1, 15, 4, 8, 52, 418484, tzinfo=datetime.timezone.utc), run_id=UUID('81f7fc0e-0df4-4bf1-80c9-51cf4077ba05'), trace_id=None, key='user_feedback', score=1, value=None, comment=None, correction=None, feedback_source=FeedbackSourceBase(type='api', metadata={}), session_id=None, comparative_experiment_id=None, feedback_group_id=None, extra=None)"
      ]
     },
     "execution_count": 9,
     "metadata": {},
     "output_type": "execute_result"
    }
   ],
   "source": [
    "from langsmith import Client\n",
    "\n",
    "client = Client()\n",
    "\n",
    "client.create_feedback(pre_defined_run_id, \"user_feedback\", score=1)"
   ]
  },
  {
   "cell_type": "markdown",
   "metadata": {},
   "source": [
    "### Pre-signed Feedback URLs"
   ]
  },
  {
   "cell_type": "markdown",
   "metadata": {},
   "source": [
    "![presigned url](../../images/presigned_url.png)\n",
    "\n",
    "\n",
    "This can also be helpful for pre-signed feedback URLs. You would want to use these when you can't expose API keys or other secrets to the client, e.g. in a web application. Using a pre-determined run_id LangSmith has an endpoint create_presigned_feedback_token which will create a URL for sending feedback, without the use of secrets required."
   ]
  },
  {
   "cell_type": "code",
   "execution_count": 10,
   "metadata": {},
   "outputs": [
    {
     "data": {
      "text/plain": [
       "UUID('27a8c91d-02b8-4f63-b9d1-92b4273f9e1b')"
      ]
     },
     "execution_count": 10,
     "metadata": {},
     "output_type": "execute_result"
    }
   ],
   "source": [
    "pre_signed_url_id = uuid.uuid4()\n",
    "pre_signed_url_id"
   ]
  },
  {
   "cell_type": "code",
   "execution_count": 11,
   "metadata": {},
   "outputs": [
    {
     "name": "stdout",
     "output_type": "stream",
     "text": [
      "id=UUID('8c4d5212-3340-4065-990c-e337bad5b304') url='https://api.smith.langchain.com/feedback/tokens/8c4d5212-3340-4065-990c-e337bad5b304' expires_at=datetime.datetime(2025, 1, 15, 7, 11, 6, 978163, tzinfo=datetime.timezone.utc)\n"
     ]
    }
   ],
   "source": [
    "pre_signed_url = client.create_presigned_feedback_token(pre_signed_url_id, \"user_presigned_feedback\")\n",
    "\n",
    "print(pre_signed_url)"
   ]
  },
  {
   "cell_type": "markdown",
   "metadata": {},
   "source": [
    "Here, we can see that even though we haven't created a run yet, we're still able to generate the feedback URL.\n",
    "\n",
    "Now, let's invoke our chain so the run with that ID is created:"
   ]
  },
  {
   "cell_type": "code",
   "execution_count": 12,
   "metadata": {},
   "outputs": [
    {
     "data": {
      "text/plain": [
       "'This is a sample Run!'"
      ]
     },
     "execution_count": 12,
     "metadata": {},
     "output_type": "execute_result"
    }
   ],
   "source": [
    "foo(langsmith_extra={\"run_id\": pre_signed_url_id})"
   ]
  },
  {
   "cell_type": "markdown",
   "metadata": {},
   "source": [
    "Then, once our run is created, we can use the feedback URL to send feedback:"
   ]
  },
  {
   "cell_type": "code",
   "execution_count": 13,
   "metadata": {},
   "outputs": [
    {
     "name": "stdout",
     "output_type": "stream",
     "text": [
      "Feedback submitted successfully!\n"
     ]
    }
   ],
   "source": [
    "import requests\n",
    "\n",
    "url_with_score = f\"{pre_signed_url.url}?score=1\"\n",
    "\n",
    "response = requests.get(url_with_score)\n",
    "\n",
    "if response.status_code >= 200 and response.status_code < 300:\n",
    "    print(\"Feedback submitted successfully!\")\n",
    "else:\n",
    "    print(\"Feedback submission failed!\")"
   ]
  }
 ],
 "metadata": {
  "kernelspec": {
   "display_name": "ls-academy",
   "language": "python",
   "name": "python3"
  },
  "language_info": {
   "codemirror_mode": {
    "name": "ipython",
    "version": 3
   },
   "file_extension": ".py",
   "mimetype": "text/x-python",
   "name": "python",
   "nbconvert_exporter": "python",
   "pygments_lexer": "ipython3",
   "version": "3.12.3"
  }
 },
 "nbformat": 4,
 "nbformat_minor": 4
}
